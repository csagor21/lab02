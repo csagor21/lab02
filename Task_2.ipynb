{
  "nbformat": 4,
  "nbformat_minor": 0,
  "metadata": {
    "colab": {
      "provenance": [],
      "authorship_tag": "ABX9TyOOgGIdneBLkQ4/DkONWumL",
      "include_colab_link": true
    },
    "kernelspec": {
      "name": "python3",
      "display_name": "Python 3"
    },
    "language_info": {
      "name": "python"
    }
  },
  "cells": [
    {
      "cell_type": "markdown",
      "metadata": {
        "id": "view-in-github",
        "colab_type": "text"
      },
      "source": [
        "<a href=\"https://colab.research.google.com/github/csagor21/lab02/blob/main/Task_2.ipynb\" target=\"_parent\"><img src=\"https://colab.research.google.com/assets/colab-badge.svg\" alt=\"Open In Colab\"/></a>"
      ]
    },
    {
      "cell_type": "code",
      "execution_count": null,
      "metadata": {
        "id": "KPsA0ui68NMn"
      },
      "outputs": [],
      "source": [
        "import matplotlib.pyplot as plt\n",
        "import random\n",
        "\n",
        "class TradingAgent:\n",
        "    def __init__(self, average_price, critical_stock_level=10, default_order_quantity=15):\n",
        "        self.average_price = average_price\n",
        "        self.critical_stock_level = critical_stock_level\n",
        "        self.default_order_quantity = default_order_quantity\n",
        "\n",
        "    def decide_order(self, current_price, current_stock):\n",
        "        # Calculate price threshold (20% discount)\n",
        "        price_threshold = 0.8 * self.average_price\n",
        "\n",
        "        # Decision Process\n",
        "        if current_stock < self.critical_stock_level:\n",
        "            # Critical stock level: prioritize restocking\n",
        "            tobuy = max(self.critical_stock_level - current_stock, 10)\n",
        "        elif current_price < price_threshold and current_stock >= self.critical_stock_level:\n",
        "            # Price drop and stock is sufficient: take advantage of the deal\n",
        "            tobuy = self.default_order_quantity\n",
        "        else:\n",
        "            # No need to place an order\n",
        "            tobuy = 0\n",
        "\n",
        "        return tobuy\n",
        "\n",
        "# Example usage with random scenarios\n",
        "average_price = 600  # Average price of the smartphone\n",
        "agent = TradingAgent(average_price=average_price)\n",
        "\n",
        "# Generate random prices and stock levels\n",
        "random.seed(42)  # Set seed for reproducibility\n",
        "prices = [random.randint(100, 600) for _ in range(10)]  # Random prices between 400 and 800\n",
        "stocks = [random.randint(0, 20) for _ in range(10)]  # Random stock levels between 0 and 20\n",
        "\n",
        "orders = []  # To store the order quantities\n",
        "for price, stock in zip(prices, stocks):\n",
        "    order_quantity = agent.decide_order(price, stock)\n",
        "    orders.append(order_quantity)\n",
        "\n",
        "# Visualization\n",
        "plt.figure(figsize=(10, 6))\n",
        "plt.plot(prices, label='Price', marker='o')\n",
        "plt.plot(stocks, label='Stock Level', marker='o')\n",
        "plt.plot(orders, label='Order Quantity', marker='o', linestyle='--')\n",
        "\n",
        "plt.title(\"Trading Agent Decision Visualization (Randomized Scenarios)\")\n",
        "plt.xlabel(\"Scenario Index\")\n",
        "plt.ylabel(\"Values\")\n",
        "plt.legend()\n",
        "plt.grid(True)\n",
        "plt.show()\n"
      ]
    }
  ]
}